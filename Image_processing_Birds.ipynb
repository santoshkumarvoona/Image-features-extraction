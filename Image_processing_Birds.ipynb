{
 "cells": [
  {
   "cell_type": "code",
   "execution_count": 12,
   "metadata": {
    "collapsed": true
   },
   "outputs": [],
   "source": [
    "import numpy as np\n",
    "import cv2\n",
    "import matplotlib.pyplot as plt\n",
    "%matplotlib inline\n",
    "import math\n",
    "import pandas as pd\n",
    "import seaborn as sns\n",
    "import glob\n",
    "import cv2\n",
    "import re\n",
    "import os\n",
    "from sklearn.model_selection import train_test_split\n",
    "import statsmodels.api as sm\n",
    "import statsmodels.formula.api as smf"
   ]
  },
  {
   "cell_type": "markdown",
   "metadata": {},
   "source": [
    "# data preparation"
   ]
  },
  {
   "cell_type": "code",
   "execution_count": 13,
   "metadata": {},
   "outputs": [
    {
     "name": "stderr",
     "output_type": "stream",
     "text": [
      "C:\\Users\\user\\AppData\\Local\\Continuum\\anaconda3\\lib\\site-packages\\numpy\\core\\fromnumeric.py:3118: RuntimeWarning: Mean of empty slice.\n",
      "  out=out, **kwargs)\n",
      "C:\\Users\\user\\AppData\\Local\\Continuum\\anaconda3\\lib\\site-packages\\numpy\\core\\_methods.py:85: RuntimeWarning: invalid value encountered in double_scalars\n",
      "  ret = ret.dtype.type(ret / rcount)\n",
      "C:\\Users\\user\\AppData\\Local\\Continuum\\anaconda3\\lib\\site-packages\\numpy\\lib\\function_base.py:392: RuntimeWarning: Mean of empty slice.\n",
      "  avg = a.mean(axis)\n",
      "C:\\Users\\user\\AppData\\Local\\Continuum\\anaconda3\\lib\\site-packages\\numpy\\core\\_methods.py:78: RuntimeWarning: invalid value encountered in true_divide\n",
      "  ret, rcount, out=ret, casting='unsafe', subok=False)\n",
      "C:\\Users\\user\\AppData\\Local\\Continuum\\anaconda3\\lib\\site-packages\\ipykernel_launcher.py:29: RuntimeWarning: Degrees of freedom <= 0 for slice\n",
      "C:\\Users\\user\\AppData\\Local\\Continuum\\anaconda3\\lib\\site-packages\\numpy\\lib\\function_base.py:2451: RuntimeWarning: divide by zero encountered in true_divide\n",
      "  c *= np.true_divide(1, fact)\n",
      "C:\\Users\\user\\AppData\\Local\\Continuum\\anaconda3\\lib\\site-packages\\numpy\\lib\\function_base.py:2451: RuntimeWarning: invalid value encountered in multiply\n",
      "  c *= np.true_divide(1, fact)\n",
      "C:\\Users\\user\\AppData\\Local\\Continuum\\anaconda3\\lib\\site-packages\\numpy\\lib\\function_base.py:2522: RuntimeWarning: Degrees of freedom <= 0 for slice\n",
      "  c = cov(x, y, rowvar)\n",
      "C:\\Users\\user\\AppData\\Local\\Continuum\\anaconda3\\lib\\site-packages\\numpy\\core\\fromnumeric.py:3367: RuntimeWarning: Degrees of freedom <= 0 for slice\n",
      "  **kwargs)\n",
      "C:\\Users\\user\\AppData\\Local\\Continuum\\anaconda3\\lib\\site-packages\\numpy\\core\\_methods.py:110: RuntimeWarning: invalid value encountered in true_divide\n",
      "  arrmean, rcount, out=arrmean, casting='unsafe', subok=False)\n",
      "C:\\Users\\user\\AppData\\Local\\Continuum\\anaconda3\\lib\\site-packages\\numpy\\core\\_methods.py:132: RuntimeWarning: invalid value encountered in double_scalars\n",
      "  ret = ret.dtype.type(ret / rcount)\n",
      "C:\\Users\\user\\AppData\\Local\\Continuum\\anaconda3\\lib\\site-packages\\ipykernel_launcher.py:41: RuntimeWarning: divide by zero encountered in double_scalars\n",
      "C:\\Users\\user\\AppData\\Local\\Continuum\\anaconda3\\lib\\site-packages\\numpy\\lib\\function_base.py:2530: RuntimeWarning: invalid value encountered in true_divide\n",
      "  c /= stddev[:, None]\n",
      "C:\\Users\\user\\AppData\\Local\\Continuum\\anaconda3\\lib\\site-packages\\numpy\\lib\\function_base.py:2531: RuntimeWarning: invalid value encountered in true_divide\n",
      "  c /= stddev[None, :]\n",
      "C:\\Users\\user\\AppData\\Local\\Continuum\\anaconda3\\lib\\site-packages\\ipykernel_launcher.py:43: RuntimeWarning: divide by zero encountered in double_scalars\n"
     ]
    }
   ],
   "source": [
    "path = glob.glob(\"train/*.jpg\")\n",
    "cv_img = []\n",
    "for img in path:\n",
    "    n = cv2.imread(img)\n",
    "    gray = cv2.cvtColor(n,cv2.COLOR_BGR2GRAY)\n",
    "    blur = cv2.GaussianBlur(gray,(5,5),0)\n",
    "    cv_img.append(blur)\n",
    "\n",
    "list1=[] \n",
    "angle1=[]\n",
    "angle2=[]\n",
    "variancex=[]\n",
    "variancey=[]\n",
    "list2=[]\n",
    "for i in cv_img:\n",
    "        #plt.imshow(i,cmap='gray')\n",
    "        #plt.show()\n",
    "        laplacian = cv2.Laplacian(i,cv2.CV_64F)\n",
    "        laplacian\n",
    "       #plt.imshow(laplacian,cmap='gray')\n",
    "       #plt.show()        \n",
    "        _,thresh = cv2.threshold(laplacian,15,255,cv2.THRESH_BINARY)\n",
    "      #  plt.imshow(thresh,cmap='gray')\n",
    "       # plt.show()\n",
    "        x,y = np.nonzero(thresh)\n",
    "        x = x - np.mean(x)\n",
    "        y = y - np.mean(y)\n",
    "        coords = np.vstack([x, y])\n",
    "        cov=np.cov(x,y)\n",
    "        cov=np.nan_to_num(cov)\n",
    "        corr=np.corrcoef(x,y)\n",
    "        corr=np.nan_to_num(corr)\n",
    "        evals, evecs = np.linalg.eig(cov)\n",
    "        sort_indices = np.argsort(evals)[::-1]\n",
    "        x_v1, y_v1 = evecs[:, sort_indices[0]]  # Eigenvector with largest eigenvalue\n",
    "        x_v2, y_v2 = evecs[:, sort_indices[1]]\n",
    "        varx=[np.var(x)]\n",
    "        varx=np.nan_to_num(varx)\n",
    "        vary=[np.var(y)]\n",
    "        vary=np.nan_to_num(vary)\n",
    "        theta1=[np.arctan(y_v1/x_v1)]\n",
    "        theta1=np.nan_to_num(theta1)\n",
    "        theta2=[math.atan(y_v2/x_v2)]\n",
    "        theta2=np.nan_to_num(theta2)\n",
    "        #print(cov)\n",
    "        \n",
    "        for i in cov:\n",
    "            #print(i)\n",
    "            list1.append(cov[0,1])\n",
    "            #listu.append(listnew[0])\n",
    "        #print(listu)\n",
    "        #print(listu)\n",
    "        for j in corr:\n",
    "            list2.append(corr[0,1])\n",
    "        for k in varx:\n",
    "            variancex.append(k)\n",
    "        for l in vary:\n",
    "            variancey.append(l)\n",
    "        for m in theta1:\n",
    "            angle1.append(m)\n",
    "        for n in theta2:\n",
    "            angle2.append(n)\n",
    "covariance=list1[0::2]\n",
    "correlation=list2[0::2]\n",
    "\n"
   ]
  },
  {
   "cell_type": "code",
   "execution_count": 14,
   "metadata": {
    "collapsed": true
   },
   "outputs": [],
   "source": [
    "sobelx_cov=[] \n",
    "angle1_sobelx=[]\n",
    "angle2_sobelx=[]\n",
    "variancex_sobelx=[]\n",
    "variancey_sobelx=[]\n",
    "sobelx_corr=[]\n",
    "for i in cv_img:\n",
    "        #plt.imshow(i,cmap='gray')\n",
    "        #plt.show()\n",
    "        sobelx = cv2.Sobel(i,cv2.CV_64F,1,0,ksize=5)\n",
    "        sobelx\n",
    "       #plt.imshow(laplacian,cmap='gray')\n",
    "       #plt.show()        \n",
    "        _,thresh = cv2.threshold(sobelx,15,255,cv2.THRESH_BINARY)\n",
    "      #  plt.imshow(thresh,cmap='gray')\n",
    "       # plt.show()\n",
    "        x,y = np.nonzero(thresh)\n",
    "        x = x - np.mean(x)\n",
    "        y = y - np.mean(y)\n",
    "        coords = np.vstack([x, y])\n",
    "        cov=np.cov(x,y)\n",
    "        cov=np.nan_to_num(cov)\n",
    "        corr=np.corrcoef(x,y)\n",
    "        corr=np.nan_to_num(corr)\n",
    "        evals, evecs = np.linalg.eig(cov)\n",
    "        sort_indices = np.argsort(evals)[::-1]\n",
    "        x_v1, y_v1 = evecs[:, sort_indices[0]]  # Eigenvector with largest eigenvalue\n",
    "        x_v2, y_v2 = evecs[:, sort_indices[1]]\n",
    "        varx=[np.var(x)]\n",
    "        varx=np.nan_to_num(varx)\n",
    "        vary=[np.var(y)]\n",
    "        vary=np.nan_to_num(vary)\n",
    "        theta1=[np.arctan(y_v1/x_v1)]\n",
    "        theta1=np.nan_to_num(theta1)\n",
    "        theta2=[math.atan(y_v2/x_v2)]\n",
    "        theta2=np.nan_to_num(theta2)\n",
    "        #print(cov)\n",
    "        \n",
    "        for i in cov:\n",
    "            #print(i)\n",
    "            sobelx_cov.append(cov[0,1])\n",
    "            #listu.append(listnew[0])\n",
    "        #print(listu)\n",
    "        #print(listu)\n",
    "        for j in corr:\n",
    "            sobelx_corr.append(corr[0,1])\n",
    "        for k in varx:\n",
    "            variancex_sobelx.append(k)\n",
    "        for l in vary:\n",
    "            variancey_sobelx.append(l)\n",
    "        for m in theta1:\n",
    "            angle1_sobelx.append(m)\n",
    "        for n in theta2:\n",
    "            angle2_sobelx.append(n)\n",
    "covariance_sobelx=sobelx_cov[0::2]\n",
    "correlation_sobelx=sobelx_corr[0::2]"
   ]
  },
  {
   "cell_type": "code",
   "execution_count": 15,
   "metadata": {
    "collapsed": true
   },
   "outputs": [],
   "source": [
    "angle1_sobely=[]\n",
    "angle2_sobely=[]\n",
    "variancex_sobely=[]\n",
    "variancey_sobely=[]\n",
    "sobely_corr=[]\n",
    "for i in cv_img:\n",
    "        #plt.imshow(i,cmap='gray')\n",
    "        #plt.show()\n",
    "        sobely = cv2.Sobel(i,cv2.CV_64F,0,1,ksize=5)\n",
    "        sobely\n",
    "       #plt.imshow(laplacian,cmap='gray')\n",
    "       #plt.show()        \n",
    "        _,thresh = cv2.threshold(sobely,15,255,cv2.THRESH_BINARY)\n",
    "      #  plt.imshow(thresh,cmap='gray')\n",
    "       # plt.show()\n",
    "        x,y = np.nonzero(thresh)\n",
    "        x = x - np.mean(x)\n",
    "        y = y - np.mean(y)\n",
    "        coords = np.vstack([x, y])\n",
    "        cov=np.cov(x,y)\n",
    "        cov=np.nan_to_num(cov)\n",
    "        corr=np.corrcoef(x,y)\n",
    "        corr=np.nan_to_num(corr)\n",
    "        evals, evecs = np.linalg.eig(cov)\n",
    "        sort_indices = np.argsort(evals)[::-1]\n",
    "        x_v1, y_v1 = evecs[:, sort_indices[0]]  # Eigenvector with largest eigenvalue\n",
    "        x_v2, y_v2 = evecs[:, sort_indices[1]]\n",
    "        varx=[np.var(x)]\n",
    "        varx=np.nan_to_num(varx)\n",
    "        vary=[np.var(y)]\n",
    "        vary=np.nan_to_num(vary)\n",
    "        theta1=[np.arctan(y_v1/x_v1)]\n",
    "        theta1=np.nan_to_num(theta1)\n",
    "        theta2=[math.atan(y_v2/x_v2)]\n",
    "        theta2=np.nan_to_num(theta2)\n",
    "        #print(cov)\n",
    "        \n",
    "        for i in cov:\n",
    "            #print(i)\n",
    "            sobely_cov.append(cov[0,1])\n",
    "            #listu.append(listnew[0])\n",
    "        #print(listu)\n",
    "        #print(listu)\n",
    "        for j in corr:\n",
    "            sobely_corr.append(corr[0,1])\n",
    "        for k in varx:\n",
    "            variancex_sobely.append(k)\n",
    "        for l in vary:\n",
    "            variancey_sobely.append(l)\n",
    "        for m in theta1:\n",
    "            angle1_sobely.append(m)\n",
    "        for n in theta2:\n",
    "            angle2_sobely.append(n)\n",
    "covariance_sobely=sobely_cov[0::2]\n",
    "correlation_sobely=sobely_corr[0::2]"
   ]
  },
  {
   "cell_type": "code",
   "execution_count": 16,
   "metadata": {
    "collapsed": true
   },
   "outputs": [],
   "source": [
    "sobel_cov=[] \n",
    "angle1_sobel=[]\n",
    "angle2_sobel=[]\n",
    "variancex_sobel=[]\n",
    "variancey_sobel=[]\n",
    "sobel_corr=[]\n",
    "for i in cv_img:\n",
    "        #plt.imshow(i,cmap='gray')\n",
    "        #plt.show()\n",
    "        sobelx = cv2.Sobel(i,cv2.CV_64F,1,0,ksize=5)\n",
    "        sobely = cv2.Sobel(i,cv2.CV_64F,0,1,ksize=5)\n",
    "        sobel = cv2.addWeighted(sobelx,0.5,sobely,0.5,0)\n",
    "        sobel_ = np.maximum(sobel,50)\n",
    "        sobel_[sobel_==50]=0\n",
    "        _, thresh = cv2.threshold(sobel,15,255,cv2.THRESH_BINARY)\n",
    "        x,y = np.nonzero(thresh)\n",
    "        x = x - np.mean(x)\n",
    "        y = y - np.mean(y)\n",
    "        coords = np.vstack([x, y])\n",
    "        cov=np.cov(x,y)\n",
    "        cov=np.nan_to_num(cov)\n",
    "        corr=np.corrcoef(x,y)\n",
    "        corr=np.nan_to_num(corr)\n",
    "        evals, evecs = np.linalg.eig(cov)\n",
    "        sort_indices = np.argsort(evals)[::-1]\n",
    "        x_v1, y_v1 = evecs[:, sort_indices[0]]  # Eigenvector with largest eigenvalue\n",
    "        x_v2, y_v2 = evecs[:, sort_indices[1]]\n",
    "        varx=[np.var(x)]\n",
    "        varx=np.nan_to_num(varx)\n",
    "        vary=[np.var(y)]\n",
    "        vary=np.nan_to_num(vary)\n",
    "        theta1=[np.arctan(y_v1/x_v1)]\n",
    "        theta1=np.nan_to_num(theta1)\n",
    "        theta2=[math.atan(y_v2/x_v2)]\n",
    "        theta2=np.nan_to_num(theta2)\n",
    "        #print(cov)\n",
    "        \n",
    "        for i in cov:\n",
    "            #print(i)\n",
    "            sobel_cov.append(cov[0,1])\n",
    "            #listu.append(listnew[0])\n",
    "        #print(listu)\n",
    "        #print(listu)\n",
    "        for j in corr:\n",
    "            sobel_corr.append(corr[0,1])\n",
    "        for k in varx:\n",
    "            variancex_sobel.append(k)\n",
    "        for l in vary:\n",
    "            variancey_sobel.append(l)\n",
    "        for m in theta1:\n",
    "            angle1_sobel.append(m)\n",
    "        for n in theta2:\n",
    "            angle2_sobel.append(n)\n",
    "covariance_sobel=sobel_cov[0::2]\n",
    "correlation_sobel=sobel_corr[0::2]"
   ]
  },
  {
   "cell_type": "code",
   "execution_count": 90,
   "metadata": {
    "scrolled": false
   },
   "outputs": [
    {
     "name": "stderr",
     "output_type": "stream",
     "text": [
      "C:\\Users\\user\\AppData\\Local\\Continuum\\anaconda3\\lib\\site-packages\\numpy\\core\\fromnumeric.py:3118: RuntimeWarning: Mean of empty slice.\n",
      "  out=out, **kwargs)\n",
      "C:\\Users\\user\\AppData\\Local\\Continuum\\anaconda3\\lib\\site-packages\\numpy\\core\\_methods.py:85: RuntimeWarning: invalid value encountered in double_scalars\n",
      "  ret = ret.dtype.type(ret / rcount)\n",
      "C:\\Users\\user\\AppData\\Local\\Continuum\\anaconda3\\lib\\site-packages\\numpy\\lib\\function_base.py:392: RuntimeWarning: Mean of empty slice.\n",
      "  avg = a.mean(axis)\n",
      "C:\\Users\\user\\AppData\\Local\\Continuum\\anaconda3\\lib\\site-packages\\numpy\\core\\_methods.py:78: RuntimeWarning: invalid value encountered in true_divide\n",
      "  ret, rcount, out=ret, casting='unsafe', subok=False)\n",
      "C:\\Users\\user\\AppData\\Local\\Continuum\\anaconda3\\lib\\site-packages\\ipykernel_launcher.py:28: RuntimeWarning: Degrees of freedom <= 0 for slice\n",
      "C:\\Users\\user\\AppData\\Local\\Continuum\\anaconda3\\lib\\site-packages\\numpy\\lib\\function_base.py:2451: RuntimeWarning: divide by zero encountered in true_divide\n",
      "  c *= np.true_divide(1, fact)\n",
      "C:\\Users\\user\\AppData\\Local\\Continuum\\anaconda3\\lib\\site-packages\\numpy\\lib\\function_base.py:2451: RuntimeWarning: invalid value encountered in multiply\n",
      "  c *= np.true_divide(1, fact)\n",
      "C:\\Users\\user\\AppData\\Local\\Continuum\\anaconda3\\lib\\site-packages\\numpy\\lib\\function_base.py:2522: RuntimeWarning: Degrees of freedom <= 0 for slice\n",
      "  c = cov(x, y, rowvar)\n",
      "C:\\Users\\user\\AppData\\Local\\Continuum\\anaconda3\\lib\\site-packages\\numpy\\core\\fromnumeric.py:3367: RuntimeWarning: Degrees of freedom <= 0 for slice\n",
      "  **kwargs)\n",
      "C:\\Users\\user\\AppData\\Local\\Continuum\\anaconda3\\lib\\site-packages\\numpy\\core\\_methods.py:110: RuntimeWarning: invalid value encountered in true_divide\n",
      "  arrmean, rcount, out=arrmean, casting='unsafe', subok=False)\n",
      "C:\\Users\\user\\AppData\\Local\\Continuum\\anaconda3\\lib\\site-packages\\numpy\\core\\_methods.py:132: RuntimeWarning: invalid value encountered in double_scalars\n",
      "  ret = ret.dtype.type(ret / rcount)\n",
      "C:\\Users\\user\\AppData\\Local\\Continuum\\anaconda3\\lib\\site-packages\\ipykernel_launcher.py:40: RuntimeWarning: divide by zero encountered in double_scalars\n"
     ]
    }
   ],
   "source": [
    "canny_cov=[] \n",
    "canny_corr=[]\n",
    "angle1_canny=[]\n",
    "angle2_canny=[]\n",
    "variancex_canny=[]\n",
    "variancey_canny=[]\n",
    "for i in cv_img:\n",
    "        #plt.imshow(i,cmap='gray')\n",
    "        #plt.show()\n",
    "        canny = cv2.Canny(i,cv2.CV_8U,100)\n",
    "        canny\n",
    "       #plt.imshow(laplacian,cmap='gray')\n",
    "       #plt.show()        \n",
    "        _,thresh = cv2.threshold(canny,15,255,cv2.THRESH_BINARY)\n",
    "      #  plt.imshow(thresh,cmap='gray')\n",
    "       # plt.show()\n",
    "        x,y = np.nonzero(thresh)\n",
    "        x = x - np.mean(x)\n",
    "        y = y - np.mean(y)\n",
    "        coords = np.vstack([x, y])\n",
    "        cov=np.cov(x,y)\n",
    "        cov=np.nan_to_num(cov)\n",
    "        corr=np.corrcoef(x,y)\n",
    "        corr=np.nan_to_num(corr)\n",
    "        evals, evecs = np.linalg.eig(cov)\n",
    "        sort_indices = np.argsort(evals)[::-1]\n",
    "        x_v1, y_v1 = evecs[:, sort_indices[0]]  # Eigenvector with largest eigenvalue\n",
    "        x_v2, y_v2 = evecs[:, sort_indices[1]]\n",
    "        varx=[np.var(x)]\n",
    "        varx=np.nan_to_num(varx)\n",
    "        vary=[np.var(y)]\n",
    "        vary=np.nan_to_num(vary)\n",
    "        theta1=[np.arctan(y_v1/x_v1)]\n",
    "        theta1=np.nan_to_num(theta1)\n",
    "        theta2=[math.atan(y_v2/x_v2)]\n",
    "        theta2=np.nan_to_num(theta2)\n",
    "        #print(cov)\n",
    "        \n",
    "        for i in cov:\n",
    "            #print(i)\n",
    "            canny_cov.append(cov[0,1])\n",
    "            #listu.append(listnew[0])\n",
    "        #print(listu)\n",
    "        #print(listu)\n",
    "        for j in corr:\n",
    "            canny_corr.append(corr[0,1])\n",
    "        for k in varx:\n",
    "            variancex_canny.append(k)\n",
    "        for l in vary:\n",
    "            variancey_canny.append(l)\n",
    "        for m in theta1:\n",
    "            angle1_canny.append(m)\n",
    "        for n in theta2:\n",
    "            angle2_canny.append(n)\n",
    "covariance_canny=canny_cov[0::2]\n",
    "correlation_canny=canny_corr[0::2]"
   ]
  },
  {
   "cell_type": "code",
   "execution_count": 18,
   "metadata": {
    "collapsed": true
   },
   "outputs": [],
   "source": [
    "scharrx_cov=[] \n",
    "angle1_scharrx=[]\n",
    "angle2_scharrx=[]\n",
    "variancex_scharrx=[]\n",
    "variancey_scharrx=[]\n",
    "scharrx_corr=[]\n",
    "for i in cv_img:\n",
    "        #plt.imshow(i,cmap='gray')\n",
    "        #plt.show()\n",
    "        scharrx = cv2.Scharr(i,cv2.CV_64F,1,0)\n",
    "        scharrx\n",
    "       #plt.imshow(laplacian,cmap='gray')\n",
    "       #plt.show()        \n",
    "        _,thresh = cv2.threshold(scharrx,15,255,cv2.THRESH_BINARY)\n",
    "      #  plt.imshow(thresh,cmap='gray')\n",
    "       # plt.show()\n",
    "        x,y = np.nonzero(thresh)\n",
    "        x = x - np.mean(x)\n",
    "        y = y - np.mean(y)\n",
    "        coords = np.vstack([x, y])\n",
    "        cov=np.cov(x,y)\n",
    "        cov=np.nan_to_num(cov)\n",
    "        corr=np.corrcoef(x,y)\n",
    "        corr=np.nan_to_num(corr)\n",
    "        evals, evecs = np.linalg.eig(cov)\n",
    "        sort_indices = np.argsort(evals)[::-1]\n",
    "        x_v1, y_v1 = evecs[:, sort_indices[0]]  # Eigenvector with largest eigenvalue\n",
    "        x_v2, y_v2 = evecs[:, sort_indices[1]]\n",
    "        varx=[np.var(x)]\n",
    "        varx=np.nan_to_num(varx)\n",
    "        vary=[np.var(y)]\n",
    "        vary=np.nan_to_num(vary)\n",
    "        theta1=[np.arctan(y_v1/x_v1)]\n",
    "        theta1=np.nan_to_num(theta1)\n",
    "        theta2=[math.atan(y_v2/x_v2)]\n",
    "        theta2=np.nan_to_num(theta2)\n",
    "        #print(cov)\n",
    "        \n",
    "        for i in cov:\n",
    "            #print(i)\n",
    "            scharrx_cov.append(cov[0,1])\n",
    "            #listu.append(listnew[0])\n",
    "        #print(listu)\n",
    "        #print(listu)\n",
    "        for j in corr:\n",
    "            scharrx_corr.append(corr[0,1])\n",
    "        for k in varx:\n",
    "            variancex_scharrx.append(k)\n",
    "        for l in vary:\n",
    "            variancey_scharrx.append(l)\n",
    "        for m in theta1:\n",
    "            angle1_scharrx.append(m)\n",
    "        for n in theta2:\n",
    "            angle2_scharrx.append(n)\n",
    "covariance_scharrx=scharrx_cov[0::2]\n",
    "correlation_scharrx=scharrx_corr[0::2]"
   ]
  },
  {
   "cell_type": "code",
   "execution_count": 19,
   "metadata": {
    "collapsed": true
   },
   "outputs": [],
   "source": [
    "scharry_cov=[] \n",
    "angle1_scharry=[]\n",
    "angle2_scharry=[]\n",
    "variancex_scharry=[]\n",
    "variancey_scharry=[]\n",
    "scharry_corr=[]\n",
    "for i in cv_img:\n",
    "        #plt.imshow(i,cmap='gray')\n",
    "        #plt.show()\n",
    "        scharry = cv2.Scharr(i,cv2.CV_64F,0,1)\n",
    "        scharry\n",
    "       #plt.imshow(laplacian,cmap='gray')\n",
    "       #plt.show()        \n",
    "        _,thresh = cv2.threshold(scharry,15,255,cv2.THRESH_BINARY)\n",
    "      #  plt.imshow(thresh,cmap='gray')\n",
    "       # plt.show()\n",
    "        x,y = np.nonzero(thresh)\n",
    "        x = x - np.mean(x)\n",
    "        y = y - np.mean(y)\n",
    "        coords = np.vstack([x, y])\n",
    "        cov=np.cov(x,y)\n",
    "        cov=np.nan_to_num(cov)\n",
    "        corr=np.corrcoef(x,y)\n",
    "        corr=np.nan_to_num(corr)\n",
    "        evals, evecs = np.linalg.eig(cov)\n",
    "        sort_indices = np.argsort(evals)[::-1]\n",
    "        x_v1, y_v1 = evecs[:, sort_indices[0]]  # Eigenvector with largest eigenvalue\n",
    "        x_v2, y_v2 = evecs[:, sort_indices[1]]\n",
    "        varx=[np.var(x)]\n",
    "        varx=np.nan_to_num(varx)\n",
    "        vary=[np.var(y)]\n",
    "        vary=np.nan_to_num(vary)\n",
    "        theta1=[np.arctan(y_v1/x_v1)]\n",
    "        theta1=np.nan_to_num(theta1)\n",
    "        theta2=[math.atan(y_v2/x_v2)]\n",
    "        theta2=np.nan_to_num(theta2)\n",
    "        #print(cov)\n",
    "        \n",
    "        for i in cov:\n",
    "            #print(i)\n",
    "            scharry_cov.append(cov[0,1])\n",
    "            #listu.append(listnew[0])\n",
    "        #print(listu)\n",
    "        #print(listu)\n",
    "        for j in corr:\n",
    "            scharry_corr.append(corr[0,1])\n",
    "        for k in varx:\n",
    "            variancex_scharry.append(k)\n",
    "        for l in vary:\n",
    "            variancey_scharry.append(l)\n",
    "        for m in theta1:\n",
    "            angle1_scharry.append(m)\n",
    "        for n in theta2:\n",
    "            angle2_scharry.append(n)\n",
    "covariance_scharry=scharry_cov[0::2]\n",
    "correlation_scharry=scharry_corr[0::2]"
   ]
  },
  {
   "cell_type": "code",
   "execution_count": 20,
   "metadata": {
    "collapsed": true
   },
   "outputs": [],
   "source": [
    "scharry_cov=[] \n",
    "angle1_scharry=[]\n",
    "angle2_scharry=[]\n",
    "variancex_scharry=[]\n",
    "variancey_scharry=[]\n",
    "scharry_corr=[]\n",
    "for i in cv_img:\n",
    "        #plt.imshow(i,cmap='gray')\n",
    "        #plt.show()\n",
    "        scharry = cv2.Scharr(i,cv2.CV_64F,0,1)\n",
    "        scharry\n",
    "       #plt.imshow(laplacian,cmap='gray')\n",
    "       #plt.show()        \n",
    "        _,thresh = cv2.threshold(scharry,15,255,cv2.THRESH_BINARY)\n",
    "      #  plt.imshow(thresh,cmap='gray')\n",
    "       # plt.show()\n",
    "        x,y = np.nonzero(thresh)\n",
    "        x = x - np.mean(x)\n",
    "        y = y - np.mean(y)\n",
    "        coords = np.vstack([x, y])\n",
    "        cov=np.cov(x,y)\n",
    "        cov=np.nan_to_num(cov)\n",
    "        corr=np.corrcoef(x,y)\n",
    "        corr=np.nan_to_num(corr)\n",
    "        evals, evecs = np.linalg.eig(cov)\n",
    "        sort_indices = np.argsort(evals)[::-1]\n",
    "        x_v1, y_v1 = evecs[:, sort_indices[0]]  # Eigenvector with largest eigenvalue\n",
    "        x_v2, y_v2 = evecs[:, sort_indices[1]]\n",
    "        varx=[np.var(x)]\n",
    "        varx=np.nan_to_num(varx)\n",
    "        vary=[np.var(y)]\n",
    "        vary=np.nan_to_num(vary)\n",
    "        theta1=[np.arctan(y_v1/x_v1)]\n",
    "        theta1=np.nan_to_num(theta1)\n",
    "        theta2=[math.atan(y_v2/x_v2)]\n",
    "        theta2=np.nan_to_num(theta2)\n",
    "        #print(cov)\n",
    "        \n",
    "        for i in cov:\n",
    "            #print(i)\n",
    "            scharry_cov.append(cov[0,1])\n",
    "            #listu.append(listnew[0])\n",
    "        #print(listu)\n",
    "        #print(listu)\n",
    "        for j in corr:\n",
    "            scharry_corr.append(corr[0,1])\n",
    "        for k in varx:\n",
    "            variancex_scharry.append(k)\n",
    "        for l in vary:\n",
    "            variancey_scharry.append(l)\n",
    "        for m in theta1:\n",
    "            angle1_scharry.append(m)\n",
    "        for n in theta2:\n",
    "            angle2_scharry.append(n)\n",
    "covariance_scharry=scharry_cov[0::2]\n",
    "correlation_scharry=scharry_corr[0::2]"
   ]
  },
  {
   "cell_type": "code",
   "execution_count": 21,
   "metadata": {
    "collapsed": true
   },
   "outputs": [],
   "source": [
    "scharr_cov=[] \n",
    "angle1_scharr=[]\n",
    "angle2_scharr=[]\n",
    "variancex_scharr=[]\n",
    "variancey_scharr=[]\n",
    "scharr_corr=[]\n",
    "for i in cv_img:\n",
    "        #plt.imshow(i,cmap='gray')\n",
    "        #plt.show()\n",
    "        scharrx = cv2.Scharr(i,cv2.CV_64F,1,0)\n",
    "        scharry = cv2.Scharr(i,cv2.CV_64F,0,1)\n",
    "        scharr = cv2.addWeighted(scharrx,0.5,scharry,0.5,0)\n",
    "        #sobel_ = np.maximum(sobel,50)\n",
    "        #sobel_[sobel_==50]=0\n",
    "        _, thresh = cv2.threshold(scharr,15,255,cv2.THRESH_BINARY)\n",
    "        x,y = np.nonzero(thresh)\n",
    "        x = x - np.mean(x)\n",
    "        y = y - np.mean(y)\n",
    "        coords = np.vstack([x, y])\n",
    "        cov=np.cov(x,y)\n",
    "        cov=np.nan_to_num(cov)\n",
    "        corr=np.corrcoef(x,y)\n",
    "        corr=np.nan_to_num(corr)\n",
    "        evals, evecs = np.linalg.eig(cov)\n",
    "        sort_indices = np.argsort(evals)[::-1]\n",
    "        x_v1, y_v1 = evecs[:, sort_indices[0]]  # Eigenvector with largest eigenvalue\n",
    "        x_v2, y_v2 = evecs[:, sort_indices[1]]\n",
    "        varx=[np.var(x)]\n",
    "        varx=np.nan_to_num(varx)\n",
    "        vary=[np.var(y)]\n",
    "        vary=np.nan_to_num(vary)\n",
    "        theta1=[np.arctan(y_v1/x_v1)]\n",
    "        theta1=np.nan_to_num(theta1)\n",
    "        theta2=[math.atan(y_v2/x_v2)]\n",
    "        theta2=np.nan_to_num(theta2)\n",
    "        #print(cov)\n",
    "        \n",
    "        for i in cov:\n",
    "            #print(i)\n",
    "            scharr_cov.append(cov[0,1])\n",
    "            #listu.append(listnew[0])\n",
    "        #print(listu)\n",
    "        #print(listu)\n",
    "        for j in corr:\n",
    "            scharr_corr.append(corr[0,1])\n",
    "        for k in varx:\n",
    "            variancex_scharr.append(k)\n",
    "        for l in vary:\n",
    "            variancey_scharr.append(l)\n",
    "        for m in theta1:\n",
    "            angle1_scharr.append(m)\n",
    "        for n in theta2:\n",
    "            angle2_scharr.append(n)\n",
    "covariance_scharr=scharr_cov[0::2]\n",
    "correlation_scharr=scharr_corr[0::2]"
   ]
  },
  {
   "cell_type": "code",
   "execution_count": 91,
   "metadata": {},
   "outputs": [
    {
     "name": "stdout",
     "output_type": "stream",
     "text": [
      "['100_0.JPG', '100_1.JPG', '10_0.JPG', '10_1.JPG', '11_0.JPG', '11_1.JPG', '12_0.JPG', '12_1.JPG', '13_0.JPG', '13_1.JPG', '14_0.JPG', '14_1.JPG', '15_0.JPG', '15_1.JPG', '16_0.JPG', '16_1.JPG', '17_0.JPG', '17_1.JPG', '18_0.JPG', '18_1.JPG', '19_0.JPG', '19_1.JPG', '1_0.JPG', '1_1.JPG', '20_0.JPG', '20_1.JPG', '21_0.JPG', '21_1.JPG', '22_0.JPG', '22_1.JPG', '23_0.JPG', '23_1.JPG', '24_0.JPG', '24_1.JPG', '25_0.JPG', '25_1.JPG', '26_0.JPG', '26_1.JPG', '27_0.JPG', '27_1.JPG', '28_0.JPG', '28_1.JPG', '29_0.JPG', '29_1.JPG', '2_0.JPG', '2_1.JPG', '30_0.JPG', '30_1.JPG', '31_0.JPG', '31_1.JPG', '32_0.JPG', '32_1.JPG', '33_0.JPG', '33_1.JPG', '34_0.JPG', '34_1.JPG', '35_0.JPG', '35_1.JPG', '36_0.JPG', '36_1.JPG', '37_0.JPG', '37_1.JPG', '38_0.JPG', '38_1.JPG', '39_0.JPG', '39_1.JPG', '3_0.JPG', '3_1.JPG', '40_0.JPG', '40_1.JPG', '41_0.JPG', '41_1.JPG', '42_0.JPG', '42_1.JPG', '43_0.JPG', '43_1.JPG', '44_0.JPG', '44_1.JPG', '45_0.JPG', '45_1.JPG', '46_0.JPG', '46_1.JPG', '47_0.JPG', '47_1.JPG', '48_0.JPG', '48_1.JPG', '49_0.JPG', '49_1.JPG', '4_0.JPG', '4_1.JPG', '50_0.JPG', '50_1.JPG', '51_0.JPG', '51_1.JPG', '52_0.JPG', '52_1.JPG', '53_0.JPG', '53_1.JPG', '54_0.JPG', '54_1.JPG', '55_0.JPG', '55_1.JPG', '56_0.JPG', '56_1.JPG', '57_0.JPG', '57_1.JPG', '58_0.JPG', '58_1.JPG', '59_0.JPG', '59_1.JPG', '5_0.JPG', '5_1.JPG', '60_0.JPG', '60_1.JPG', '61_0.JPG', '61_1.JPG', '62_0.JPG', '62_1.JPG', '63_0.JPG', '63_1.JPG', '64_0.JPG', '64_1.JPG', '65_0.JPG', '65_1.JPG', '66_0.JPG', '66_1.JPG', '67_0.JPG', '67_1.JPG', '68_0.JPG', '68_1.JPG', '69_0.JPG', '69_1.JPG', '6_0.JPG', '6_1.JPG', '70_0.JPG', '70_1.JPG', '71_0.JPG', '71_1.JPG', '72_0.JPG', '72_1.JPG', '73_0.JPG', '73_1.JPG', '74_0.JPG', '74_1.JPG', '75_0.JPG', '75_1.JPG', '76_0.JPG', '76_1.JPG', '77_0.JPG', '77_1.JPG', '78_0.JPG', '78_1.JPG', '79_0.JPG', '79_1.JPG', '7_0.JPG', '7_1.JPG', '80_0.JPG', '80_1.JPG', '81_0.JPG', '81_1.JPG', '82_0.JPG', '82_1.JPG', '83_0.JPG', '83_1.JPG', '84_0.JPG', '84_1.JPG', '85_0.JPG', '85_1.JPG', '86_0.JPG', '86_1.JPG', '87_0.JPG', '87_1.JPG', '88_0.JPG', '88_1.JPG', '89_0.JPG', '89_1.JPG', '8_0.JPG', '8_1.JPG', '90_0.JPG', '90_1.JPG', '91_0.JPG', '91_1.JPG', '92_0.JPG', '92_1.JPG', '93_0.JPG', '93_1.JPG', '94_0.JPG', '94_1.JPG', '95_0.JPG', '95_1.JPG', '96_0.JPG', '96_1.JPG', '97_0.JPG', '97_1.JPG', '98_0.JPG', '98_1.JPG', '99_0.JPG', '99_1.JPG', '9_0.JPG', '9_1.JPG', 'desktop.ini', 'Thumbs.db']\n"
     ]
    }
   ],
   "source": [
    "names=os.listdir(\"train\")\n",
    "print(names)"
   ]
  },
  {
   "cell_type": "code",
   "execution_count": 24,
   "metadata": {
    "collapsed": true
   },
   "outputs": [],
   "source": [
    "string = ''.join(names)"
   ]
  },
  {
   "cell_type": "code",
   "execution_count": null,
   "metadata": {
    "collapsed": true
   },
   "outputs": [],
   "source": [
    "#names"
   ]
  },
  {
   "cell_type": "code",
   "execution_count": 25,
   "metadata": {
    "collapsed": true
   },
   "outputs": [],
   "source": [
    "result=re.findall(r'\\_(\\d)',string)"
   ]
  },
  {
   "cell_type": "code",
   "execution_count": 27,
   "metadata": {
    "collapsed": true
   },
   "outputs": [],
   "source": [
    "result = list(map(int, result))"
   ]
  },
  {
   "cell_type": "code",
   "execution_count": 92,
   "metadata": {},
   "outputs": [
    {
     "name": "stdout",
     "output_type": "stream",
     "text": [
      "[0, 1, 0, 1, 0, 1, 0, 1, 0, 1, 0, 1, 0, 1, 0, 1, 0, 1, 0, 1, 0, 1, 0, 1, 0, 1, 0, 1, 0, 1, 0, 1, 0, 1, 0, 1, 0, 1, 0, 1, 0, 1, 0, 1, 0, 1, 0, 1, 0, 1, 0, 1, 0, 1, 0, 1, 0, 1, 0, 1, 0, 1, 0, 1, 0, 1, 0, 1, 0, 1, 0, 1, 0, 1, 0, 1, 0, 1, 0, 1, 0, 1, 0, 1, 0, 1, 0, 1, 0, 1, 0, 1, 0, 1, 0, 1, 0, 1, 0, 1, 0, 1, 0, 1, 0, 1, 0, 1, 0, 1, 0, 1, 0, 1, 0, 1, 0, 1, 0, 1, 0, 1, 0, 1, 0, 1, 0, 1, 0, 1, 0, 1, 0, 1, 0, 1, 0, 1, 0, 1, 0, 1, 0, 1, 0, 1, 0, 1, 0, 1, 0, 1, 0, 1, 0, 1, 0, 1, 0, 1, 0, 1, 0, 1, 0, 1, 0, 1, 0, 1, 0, 1, 0, 1, 0, 1, 0, 1, 0, 1, 0, 1, 0, 1, 0, 1, 0, 1, 0, 1, 0, 1, 0, 1, 0, 1, 0, 1, 0, 1]\n"
     ]
    }
   ],
   "source": [
    "print(result)"
   ]
  },
  {
   "cell_type": "code",
   "execution_count": 29,
   "metadata": {
    "collapsed": true
   },
   "outputs": [],
   "source": [
    "birdsdict={'lapCovariance':covariance,'lapCorrelation':correlation,'lapVarx':variancex,'lapVary':variancey,'lapAngle1':angle1,'lapAngle2':angle2,'cannyCovariance':covariance_canny,'cannyCorrelation':correlation_canny,'cannyVariancex':variancex_canny,'cannyVariancey':variancey_canny,'cannyAngle1':angle1_canny,'cannyAngle2':angle2_canny,'sobelxCovariance':covariance_sobelx,'sobelxCorrelation':correlation_sobelx,'sobelxVariancex':variancex_sobelx,'sobelxVariancey':variancey_sobelx,'sobelxAngle1':angle1_sobelx,'sobelxAngle2':angle2_sobelx,'sobelyCovariance':covariance_sobely,'sobelyCorrelation':correlation_sobely,'sobelyVariancex':variancex_sobely,'sobelyVariancey':variancey_sobely,'sobelyAngle1':angle1_sobely,'sobelyAngle2':angle2_sobely,'sobelCovariance':covariance_sobel,'sobelCorrelation':correlation_sobel,'sobelVariancex':variancex_sobel,'sobelVariancey':variancey_sobel,'sobelAngle1':angle1_sobel,'sobelAngle2':angle2_sobel,'scharrxCovariance':covariance_scharrx,'scharrxCorrelation':correlation_scharrx,'scharrxVariancex':variancex_scharrx,'scharrxVariancey':variancey_scharrx,'scharrxAngle1':angle1_scharrx,'scharrxAngle2':angle2_scharrx,'scharryCovariance':covariance_scharry,'scharryCorrelation':correlation_scharry,'scharryVariancex':variancex_scharry,'scharryVariancey':variancey_scharry,'scharryAngle1':angle1_scharry,'scharryAngle2':angle2_scharry,'scharrCovariance':covariance_scharr,'scharrCorrelation':correlation_scharr,'scharrVariancex':variancex_scharr,'scharrVariancey':variancey_scharr,'scharrAngle1':angle1_scharr,'scharrAngle2':angle2_scharr,'morCovariance':covariance_scharr,'Birds':result}"
   ]
  },
  {
   "cell_type": "code",
   "execution_count": 30,
   "metadata": {
    "collapsed": true
   },
   "outputs": [],
   "source": [
    "Birds_feature_extraction=pd.DataFrame(birdsdict)"
   ]
  },
  {
   "cell_type": "code",
   "execution_count": 31,
   "metadata": {},
   "outputs": [
    {
     "data": {
      "text/html": [
       "<div>\n",
       "<style scoped>\n",
       "    .dataframe tbody tr th:only-of-type {\n",
       "        vertical-align: middle;\n",
       "    }\n",
       "\n",
       "    .dataframe tbody tr th {\n",
       "        vertical-align: top;\n",
       "    }\n",
       "\n",
       "    .dataframe thead th {\n",
       "        text-align: right;\n",
       "    }\n",
       "</style>\n",
       "<table border=\"1\" class=\"dataframe\">\n",
       "  <thead>\n",
       "    <tr style=\"text-align: right;\">\n",
       "      <th></th>\n",
       "      <th>lapCovariance</th>\n",
       "      <th>lapCorrelation</th>\n",
       "      <th>lapVarx</th>\n",
       "      <th>lapVary</th>\n",
       "      <th>lapAngle1</th>\n",
       "      <th>lapAngle2</th>\n",
       "      <th>cannyCovariance</th>\n",
       "      <th>cannyCorrelation</th>\n",
       "      <th>cannyVariancex</th>\n",
       "      <th>cannyVariancey</th>\n",
       "      <th>...</th>\n",
       "      <th>scharryAngle1</th>\n",
       "      <th>scharryAngle2</th>\n",
       "      <th>scharrCovariance</th>\n",
       "      <th>scharrCorrelation</th>\n",
       "      <th>scharrVariancex</th>\n",
       "      <th>scharrVariancey</th>\n",
       "      <th>scharrAngle1</th>\n",
       "      <th>scharrAngle2</th>\n",
       "      <th>morCovariance</th>\n",
       "      <th>Birds</th>\n",
       "    </tr>\n",
       "  </thead>\n",
       "  <tbody>\n",
       "    <tr>\n",
       "      <th>0</th>\n",
       "      <td>0.000000</td>\n",
       "      <td>0.000000</td>\n",
       "      <td>0.00</td>\n",
       "      <td>0.0</td>\n",
       "      <td>1.570796</td>\n",
       "      <td>0.000000</td>\n",
       "      <td>0.000000</td>\n",
       "      <td>0.000000</td>\n",
       "      <td>0.000000</td>\n",
       "      <td>0.000000</td>\n",
       "      <td>...</td>\n",
       "      <td>1.246638</td>\n",
       "      <td>-0.324159</td>\n",
       "      <td>56.353865</td>\n",
       "      <td>0.013545</td>\n",
       "      <td>4197.045692</td>\n",
       "      <td>4123.545144</td>\n",
       "      <td>0.496445</td>\n",
       "      <td>-1.074351</td>\n",
       "      <td>56.353865</td>\n",
       "      <td>0</td>\n",
       "    </tr>\n",
       "    <tr>\n",
       "      <th>1</th>\n",
       "      <td>1224.500000</td>\n",
       "      <td>0.916830</td>\n",
       "      <td>1245.76</td>\n",
       "      <td>916.4</td>\n",
       "      <td>0.702122</td>\n",
       "      <td>-0.868674</td>\n",
       "      <td>-819.296059</td>\n",
       "      <td>-0.370552</td>\n",
       "      <td>3223.406704</td>\n",
       "      <td>1515.470111</td>\n",
       "      <td>...</td>\n",
       "      <td>-0.721734</td>\n",
       "      <td>0.849062</td>\n",
       "      <td>-622.370488</td>\n",
       "      <td>-0.164762</td>\n",
       "      <td>3809.698812</td>\n",
       "      <td>3744.844937</td>\n",
       "      <td>-0.759369</td>\n",
       "      <td>0.811427</td>\n",
       "      <td>-622.370488</td>\n",
       "      <td>1</td>\n",
       "    </tr>\n",
       "    <tr>\n",
       "      <th>2</th>\n",
       "      <td>0.000000</td>\n",
       "      <td>0.000000</td>\n",
       "      <td>0.00</td>\n",
       "      <td>0.0</td>\n",
       "      <td>1.570796</td>\n",
       "      <td>0.000000</td>\n",
       "      <td>0.000000</td>\n",
       "      <td>0.000000</td>\n",
       "      <td>0.000000</td>\n",
       "      <td>0.000000</td>\n",
       "      <td>...</td>\n",
       "      <td>-1.085767</td>\n",
       "      <td>0.485029</td>\n",
       "      <td>-649.431707</td>\n",
       "      <td>-0.143338</td>\n",
       "      <td>4447.374444</td>\n",
       "      <td>4613.985525</td>\n",
       "      <td>-0.849199</td>\n",
       "      <td>0.721598</td>\n",
       "      <td>-649.431707</td>\n",
       "      <td>0</td>\n",
       "    </tr>\n",
       "    <tr>\n",
       "      <th>3</th>\n",
       "      <td>-5.222222</td>\n",
       "      <td>-0.938949</td>\n",
       "      <td>10.44</td>\n",
       "      <td>2.4</td>\n",
       "      <td>-0.431611</td>\n",
       "      <td>1.139185</td>\n",
       "      <td>24.689227</td>\n",
       "      <td>0.151402</td>\n",
       "      <td>244.059949</td>\n",
       "      <td>107.755746</td>\n",
       "      <td>...</td>\n",
       "      <td>-1.357655</td>\n",
       "      <td>0.213142</td>\n",
       "      <td>-225.156104</td>\n",
       "      <td>-0.055080</td>\n",
       "      <td>3680.089795</td>\n",
       "      <td>4539.588135</td>\n",
       "      <td>-1.329518</td>\n",
       "      <td>0.241279</td>\n",
       "      <td>-225.156104</td>\n",
       "      <td>1</td>\n",
       "    </tr>\n",
       "    <tr>\n",
       "      <th>4</th>\n",
       "      <td>0.000000</td>\n",
       "      <td>0.000000</td>\n",
       "      <td>0.00</td>\n",
       "      <td>0.0</td>\n",
       "      <td>1.570796</td>\n",
       "      <td>0.000000</td>\n",
       "      <td>147.069771</td>\n",
       "      <td>0.073010</td>\n",
       "      <td>1614.040730</td>\n",
       "      <td>2486.878890</td>\n",
       "      <td>...</td>\n",
       "      <td>0.278267</td>\n",
       "      <td>-1.292529</td>\n",
       "      <td>116.928548</td>\n",
       "      <td>0.028492</td>\n",
       "      <td>4108.420818</td>\n",
       "      <td>4098.802365</td>\n",
       "      <td>0.764844</td>\n",
       "      <td>-0.805953</td>\n",
       "      <td>116.928548</td>\n",
       "      <td>0</td>\n",
       "    </tr>\n",
       "  </tbody>\n",
       "</table>\n",
       "<p>5 rows × 50 columns</p>\n",
       "</div>"
      ],
      "text/plain": [
       "   lapCovariance  lapCorrelation  lapVarx  lapVary  lapAngle1  lapAngle2  \\\n",
       "0       0.000000        0.000000     0.00      0.0   1.570796   0.000000   \n",
       "1    1224.500000        0.916830  1245.76    916.4   0.702122  -0.868674   \n",
       "2       0.000000        0.000000     0.00      0.0   1.570796   0.000000   \n",
       "3      -5.222222       -0.938949    10.44      2.4  -0.431611   1.139185   \n",
       "4       0.000000        0.000000     0.00      0.0   1.570796   0.000000   \n",
       "\n",
       "   cannyCovariance  cannyCorrelation  cannyVariancex  cannyVariancey  ...  \\\n",
       "0         0.000000          0.000000        0.000000        0.000000  ...   \n",
       "1      -819.296059         -0.370552     3223.406704     1515.470111  ...   \n",
       "2         0.000000          0.000000        0.000000        0.000000  ...   \n",
       "3        24.689227          0.151402      244.059949      107.755746  ...   \n",
       "4       147.069771          0.073010     1614.040730     2486.878890  ...   \n",
       "\n",
       "   scharryAngle1  scharryAngle2  scharrCovariance  scharrCorrelation  \\\n",
       "0       1.246638      -0.324159         56.353865           0.013545   \n",
       "1      -0.721734       0.849062       -622.370488          -0.164762   \n",
       "2      -1.085767       0.485029       -649.431707          -0.143338   \n",
       "3      -1.357655       0.213142       -225.156104          -0.055080   \n",
       "4       0.278267      -1.292529        116.928548           0.028492   \n",
       "\n",
       "   scharrVariancex  scharrVariancey  scharrAngle1  scharrAngle2  \\\n",
       "0      4197.045692      4123.545144      0.496445     -1.074351   \n",
       "1      3809.698812      3744.844937     -0.759369      0.811427   \n",
       "2      4447.374444      4613.985525     -0.849199      0.721598   \n",
       "3      3680.089795      4539.588135     -1.329518      0.241279   \n",
       "4      4108.420818      4098.802365      0.764844     -0.805953   \n",
       "\n",
       "   morCovariance  Birds  \n",
       "0      56.353865      0  \n",
       "1    -622.370488      1  \n",
       "2    -649.431707      0  \n",
       "3    -225.156104      1  \n",
       "4     116.928548      0  \n",
       "\n",
       "[5 rows x 50 columns]"
      ]
     },
     "execution_count": 31,
     "metadata": {},
     "output_type": "execute_result"
    }
   ],
   "source": [
    "Birds_feature_extraction.head()"
   ]
  },
  {
   "cell_type": "code",
   "execution_count": 32,
   "metadata": {
    "collapsed": true
   },
   "outputs": [],
   "source": [
    "x = Birds_feature_extraction.iloc[:,:-1]\n",
    "y = Birds_feature_extraction.iloc[:,-1:]"
   ]
  },
  {
   "cell_type": "code",
   "execution_count": 33,
   "metadata": {},
   "outputs": [
    {
     "name": "stderr",
     "output_type": "stream",
     "text": [
      "C:\\Users\\user\\AppData\\Local\\Continuum\\anaconda3\\lib\\site-packages\\sklearn\\utils\\validation.py:578: DataConversionWarning: A column-vector y was passed when a 1d array was expected. Please change the shape of y to (n_samples, ), for example using ravel().\n",
      "  y = column_or_1d(y, warn=True)\n"
     ]
    }
   ],
   "source": [
    "from sklearn.linear_model import LogisticRegression\n",
    "logmodel = LogisticRegression()\n",
    "logmodel.fit(x,y)\n",
    "from sklearn.feature_selection import RFE"
   ]
  },
  {
   "cell_type": "code",
   "execution_count": null,
   "metadata": {
    "collapsed": true
   },
   "outputs": [],
   "source": []
  },
  {
   "cell_type": "markdown",
   "metadata": {},
   "source": [
    "# machine learning"
   ]
  },
  {
   "cell_type": "code",
   "execution_count": 34,
   "metadata": {},
   "outputs": [
    {
     "data": {
      "text/plain": [
       "lapCovariance         0\n",
       "lapCorrelation        0\n",
       "lapVarx               0\n",
       "lapVary               0\n",
       "lapAngle1             0\n",
       "lapAngle2             0\n",
       "cannyCovariance       0\n",
       "cannyCorrelation      0\n",
       "cannyVariancex        0\n",
       "cannyVariancey        0\n",
       "cannyAngle1           0\n",
       "cannyAngle2           0\n",
       "sobelxCovariance      0\n",
       "sobelxCorrelation     0\n",
       "sobelxVariancex       0\n",
       "sobelxVariancey       0\n",
       "sobelxAngle1          0\n",
       "sobelxAngle2          0\n",
       "sobelyCovariance      0\n",
       "sobelyCorrelation     0\n",
       "sobelyVariancex       0\n",
       "sobelyVariancey       0\n",
       "sobelyAngle1          0\n",
       "sobelyAngle2          0\n",
       "sobelCovariance       0\n",
       "sobelCorrelation      0\n",
       "sobelVariancex        0\n",
       "sobelVariancey        0\n",
       "sobelAngle1           0\n",
       "sobelAngle2           0\n",
       "scharrxCovariance     0\n",
       "scharrxCorrelation    0\n",
       "scharrxVariancex      0\n",
       "scharrxVariancey      0\n",
       "scharrxAngle1         0\n",
       "scharrxAngle2         0\n",
       "scharryCovariance     0\n",
       "scharryCorrelation    0\n",
       "scharryVariancex      0\n",
       "scharryVariancey      0\n",
       "scharryAngle1         0\n",
       "scharryAngle2         0\n",
       "scharrCovariance      0\n",
       "scharrCorrelation     0\n",
       "scharrVariancex       0\n",
       "scharrVariancey       0\n",
       "scharrAngle1          0\n",
       "scharrAngle2          0\n",
       "morCovariance         0\n",
       "Birds                 0\n",
       "dtype: int64"
      ]
     },
     "execution_count": 34,
     "metadata": {},
     "output_type": "execute_result"
    }
   ],
   "source": [
    "Birds_feature_extraction.isnull().sum()"
   ]
  },
  {
   "cell_type": "code",
   "execution_count": 58,
   "metadata": {},
   "outputs": [
    {
     "name": "stdout",
     "output_type": "stream",
     "text": [
      "x_train = (160, 49)\n",
      "x_test = (40, 49)\n",
      "y_train = (160, 1)\n",
      "y_test = (40, 1)\n"
     ]
    }
   ],
   "source": [
    "x_train, x_test, y_train, y_test = train_test_split(x,y,test_size=0.2,random_state=0)\n",
    "print('x_train =',x_train.shape)\n",
    "print('x_test =',x_test.shape)\n",
    "print('y_train =',y_train.shape)\n",
    "print('y_test =',y_test.shape)"
   ]
  },
  {
   "cell_type": "code",
   "execution_count": 36,
   "metadata": {},
   "outputs": [
    {
     "name": "stderr",
     "output_type": "stream",
     "text": [
      "C:\\Users\\user\\AppData\\Local\\Continuum\\anaconda3\\lib\\site-packages\\sklearn\\utils\\validation.py:578: DataConversionWarning: A column-vector y was passed when a 1d array was expected. Please change the shape of y to (n_samples, ), for example using ravel().\n",
      "  y = column_or_1d(y, warn=True)\n"
     ]
    }
   ],
   "source": [
    "from sklearn.linear_model import LogisticRegression\n",
    "logmodel = LogisticRegression()\n",
    "logmodel.fit(x_train,y_train)\n",
    "from sklearn.feature_selection import RFE"
   ]
  },
  {
   "cell_type": "code",
   "execution_count": 59,
   "metadata": {},
   "outputs": [
    {
     "name": "stderr",
     "output_type": "stream",
     "text": [
      "C:\\Users\\user\\AppData\\Local\\Continuum\\anaconda3\\lib\\site-packages\\sklearn\\utils\\validation.py:578: DataConversionWarning: A column-vector y was passed when a 1d array was expected. Please change the shape of y to (n_samples, ), for example using ravel().\n",
      "  y = column_or_1d(y, warn=True)\n"
     ]
    },
    {
     "data": {
      "text/plain": [
       "RFE(estimator=LogisticRegression(C=1.0, class_weight=None, dual=False, fit_intercept=True,\n",
       "          intercept_scaling=1, max_iter=100, multi_class='ovr', n_jobs=1,\n",
       "          penalty='l2', random_state=None, solver='liblinear', tol=0.0001,\n",
       "          verbose=0, warm_start=False),\n",
       "  n_features_to_select=None, step=1, verbose=0)"
      ]
     },
     "execution_count": 59,
     "metadata": {},
     "output_type": "execute_result"
    }
   ],
   "source": [
    "selector = RFE(logmodel)\n",
    "selector.fit(x_train,y_train)"
   ]
  },
  {
   "cell_type": "code",
   "execution_count": 60,
   "metadata": {},
   "outputs": [
    {
     "data": {
      "text/html": [
       "<div>\n",
       "<style scoped>\n",
       "    .dataframe tbody tr th:only-of-type {\n",
       "        vertical-align: middle;\n",
       "    }\n",
       "\n",
       "    .dataframe tbody tr th {\n",
       "        vertical-align: top;\n",
       "    }\n",
       "\n",
       "    .dataframe thead th {\n",
       "        text-align: right;\n",
       "    }\n",
       "</style>\n",
       "<table border=\"1\" class=\"dataframe\">\n",
       "  <thead>\n",
       "    <tr style=\"text-align: right;\">\n",
       "      <th></th>\n",
       "      <th>lapCorrelation</th>\n",
       "      <th>lapAngle1</th>\n",
       "      <th>lapAngle2</th>\n",
       "      <th>cannyCorrelation</th>\n",
       "      <th>cannyAngle1</th>\n",
       "      <th>cannyAngle2</th>\n",
       "      <th>sobelxCovariance</th>\n",
       "      <th>sobelxAngle1</th>\n",
       "      <th>sobelxAngle2</th>\n",
       "      <th>sobelyCovariance</th>\n",
       "      <th>...</th>\n",
       "      <th>sobelAngle2</th>\n",
       "      <th>scharrxCovariance</th>\n",
       "      <th>scharrxCorrelation</th>\n",
       "      <th>scharrxAngle1</th>\n",
       "      <th>scharrxAngle2</th>\n",
       "      <th>scharryAngle1</th>\n",
       "      <th>scharryAngle2</th>\n",
       "      <th>scharrCorrelation</th>\n",
       "      <th>scharrAngle1</th>\n",
       "      <th>scharrAngle2</th>\n",
       "    </tr>\n",
       "  </thead>\n",
       "  <tbody>\n",
       "    <tr>\n",
       "      <th>134</th>\n",
       "      <td>0.0</td>\n",
       "      <td>1.570796</td>\n",
       "      <td>0.0</td>\n",
       "      <td>0.000000</td>\n",
       "      <td>1.570796</td>\n",
       "      <td>0.000000</td>\n",
       "      <td>20.651880</td>\n",
       "      <td>0.110894</td>\n",
       "      <td>-1.459902</td>\n",
       "      <td>48.018608</td>\n",
       "      <td>...</td>\n",
       "      <td>-1.262413</td>\n",
       "      <td>207.509342</td>\n",
       "      <td>0.049987</td>\n",
       "      <td>0.273392</td>\n",
       "      <td>-1.297404</td>\n",
       "      <td>0.296536</td>\n",
       "      <td>-1.274260</td>\n",
       "      <td>0.060187</td>\n",
       "      <td>0.317724</td>\n",
       "      <td>-1.253072</td>\n",
       "    </tr>\n",
       "    <tr>\n",
       "      <th>66</th>\n",
       "      <td>0.0</td>\n",
       "      <td>1.570796</td>\n",
       "      <td>0.0</td>\n",
       "      <td>0.000000</td>\n",
       "      <td>1.570796</td>\n",
       "      <td>0.000000</td>\n",
       "      <td>-185.720814</td>\n",
       "      <td>-0.977065</td>\n",
       "      <td>0.593732</td>\n",
       "      <td>161.688685</td>\n",
       "      <td>...</td>\n",
       "      <td>0.054889</td>\n",
       "      <td>-197.499644</td>\n",
       "      <td>-0.051260</td>\n",
       "      <td>-1.044831</td>\n",
       "      <td>0.525965</td>\n",
       "      <td>1.395749</td>\n",
       "      <td>-0.175047</td>\n",
       "      <td>-0.059433</td>\n",
       "      <td>-1.292293</td>\n",
       "      <td>0.278503</td>\n",
       "    </tr>\n",
       "    <tr>\n",
       "      <th>26</th>\n",
       "      <td>0.0</td>\n",
       "      <td>1.570796</td>\n",
       "      <td>0.0</td>\n",
       "      <td>0.996995</td>\n",
       "      <td>0.313667</td>\n",
       "      <td>-1.257129</td>\n",
       "      <td>39.176362</td>\n",
       "      <td>0.091106</td>\n",
       "      <td>-1.479690</td>\n",
       "      <td>142.541107</td>\n",
       "      <td>...</td>\n",
       "      <td>-1.042255</td>\n",
       "      <td>112.795054</td>\n",
       "      <td>0.028313</td>\n",
       "      <td>0.165454</td>\n",
       "      <td>-1.405343</td>\n",
       "      <td>0.892685</td>\n",
       "      <td>-0.678111</td>\n",
       "      <td>0.052116</td>\n",
       "      <td>0.396834</td>\n",
       "      <td>-1.173963</td>\n",
       "    </tr>\n",
       "    <tr>\n",
       "      <th>113</th>\n",
       "      <td>0.0</td>\n",
       "      <td>1.570796</td>\n",
       "      <td>0.0</td>\n",
       "      <td>0.000000</td>\n",
       "      <td>1.570796</td>\n",
       "      <td>0.000000</td>\n",
       "      <td>-27.432522</td>\n",
       "      <td>-1.314483</td>\n",
       "      <td>0.256314</td>\n",
       "      <td>281.755280</td>\n",
       "      <td>...</td>\n",
       "      <td>-0.515984</td>\n",
       "      <td>64.954635</td>\n",
       "      <td>0.015500</td>\n",
       "      <td>1.202888</td>\n",
       "      <td>-0.367909</td>\n",
       "      <td>0.800732</td>\n",
       "      <td>-0.770065</td>\n",
       "      <td>0.213079</td>\n",
       "      <td>0.809914</td>\n",
       "      <td>-0.760882</td>\n",
       "    </tr>\n",
       "    <tr>\n",
       "      <th>168</th>\n",
       "      <td>0.0</td>\n",
       "      <td>1.570796</td>\n",
       "      <td>0.0</td>\n",
       "      <td>0.000000</td>\n",
       "      <td>1.570796</td>\n",
       "      <td>0.000000</td>\n",
       "      <td>35.436993</td>\n",
       "      <td>0.466251</td>\n",
       "      <td>-1.104546</td>\n",
       "      <td>75.181117</td>\n",
       "      <td>...</td>\n",
       "      <td>-0.723561</td>\n",
       "      <td>46.749750</td>\n",
       "      <td>0.011228</td>\n",
       "      <td>0.861621</td>\n",
       "      <td>-0.709175</td>\n",
       "      <td>1.415876</td>\n",
       "      <td>-0.154920</td>\n",
       "      <td>0.004479</td>\n",
       "      <td>1.319390</td>\n",
       "      <td>-0.251406</td>\n",
       "    </tr>\n",
       "  </tbody>\n",
       "</table>\n",
       "<p>5 rows × 24 columns</p>\n",
       "</div>"
      ],
      "text/plain": [
       "     lapCorrelation  lapAngle1  lapAngle2  cannyCorrelation  cannyAngle1  \\\n",
       "134             0.0   1.570796        0.0          0.000000     1.570796   \n",
       "66              0.0   1.570796        0.0          0.000000     1.570796   \n",
       "26              0.0   1.570796        0.0          0.996995     0.313667   \n",
       "113             0.0   1.570796        0.0          0.000000     1.570796   \n",
       "168             0.0   1.570796        0.0          0.000000     1.570796   \n",
       "\n",
       "     cannyAngle2  sobelxCovariance  sobelxAngle1  sobelxAngle2  \\\n",
       "134     0.000000         20.651880      0.110894     -1.459902   \n",
       "66      0.000000       -185.720814     -0.977065      0.593732   \n",
       "26     -1.257129         39.176362      0.091106     -1.479690   \n",
       "113     0.000000        -27.432522     -1.314483      0.256314   \n",
       "168     0.000000         35.436993      0.466251     -1.104546   \n",
       "\n",
       "     sobelyCovariance  ...  sobelAngle2  scharrxCovariance  \\\n",
       "134         48.018608  ...    -1.262413         207.509342   \n",
       "66         161.688685  ...     0.054889        -197.499644   \n",
       "26         142.541107  ...    -1.042255         112.795054   \n",
       "113        281.755280  ...    -0.515984          64.954635   \n",
       "168         75.181117  ...    -0.723561          46.749750   \n",
       "\n",
       "     scharrxCorrelation  scharrxAngle1  scharrxAngle2  scharryAngle1  \\\n",
       "134            0.049987       0.273392      -1.297404       0.296536   \n",
       "66            -0.051260      -1.044831       0.525965       1.395749   \n",
       "26             0.028313       0.165454      -1.405343       0.892685   \n",
       "113            0.015500       1.202888      -0.367909       0.800732   \n",
       "168            0.011228       0.861621      -0.709175       1.415876   \n",
       "\n",
       "     scharryAngle2  scharrCorrelation  scharrAngle1  scharrAngle2  \n",
       "134      -1.274260           0.060187      0.317724     -1.253072  \n",
       "66       -0.175047          -0.059433     -1.292293      0.278503  \n",
       "26       -0.678111           0.052116      0.396834     -1.173963  \n",
       "113      -0.770065           0.213079      0.809914     -0.760882  \n",
       "168      -0.154920           0.004479      1.319390     -0.251406  \n",
       "\n",
       "[5 rows x 24 columns]"
      ]
     },
     "execution_count": 60,
     "metadata": {},
     "output_type": "execute_result"
    }
   ],
   "source": [
    "x_birds = x_train[x_train.columns[selector.support_]]\n",
    "x_birds.head()"
   ]
  },
  {
   "cell_type": "code",
   "execution_count": 61,
   "metadata": {
    "collapsed": true
   },
   "outputs": [],
   "source": [
    "train = pd.concat((x_train,y_train),axis=1)\n",
    "test = pd.concat((x_test,y_test),axis=1)"
   ]
  },
  {
   "cell_type": "code",
   "execution_count": 63,
   "metadata": {},
   "outputs": [
    {
     "data": {
      "text/plain": [
       "Index(['lapCovariance', 'lapCorrelation', 'lapVarx', 'lapVary', 'lapAngle1',\n",
       "       'lapAngle2', 'cannyCovariance', 'cannyCorrelation', 'cannyVariancex',\n",
       "       'cannyVariancey', 'cannyAngle1', 'cannyAngle2', 'sobelxCovariance',\n",
       "       'sobelxCorrelation', 'sobelxVariancex', 'sobelxVariancey',\n",
       "       'sobelxAngle1', 'sobelxAngle2', 'sobelyCovariance', 'sobelyCorrelation',\n",
       "       'sobelyVariancex', 'sobelyVariancey', 'sobelyAngle1', 'sobelyAngle2',\n",
       "       'sobelCovariance', 'sobelCorrelation', 'sobelVariancex',\n",
       "       'sobelVariancey', 'sobelAngle1', 'sobelAngle2', 'scharrxCovariance',\n",
       "       'scharrxCorrelation', 'scharrxVariancex', 'scharrxVariancey',\n",
       "       'scharrxAngle1', 'scharrxAngle2', 'scharryCovariance',\n",
       "       'scharryCorrelation', 'scharryVariancex', 'scharryVariancey',\n",
       "       'scharryAngle1', 'scharryAngle2', 'scharrCovariance',\n",
       "       'scharrCorrelation', 'scharrVariancex', 'scharrVariancey',\n",
       "       'scharrAngle1', 'scharrAngle2', 'morCovariance', 'Birds'],\n",
       "      dtype='object')"
      ]
     },
     "execution_count": 63,
     "metadata": {},
     "output_type": "execute_result"
    }
   ],
   "source": [
    "train.keys()"
   ]
  },
  {
   "cell_type": "code",
   "execution_count": 81,
   "metadata": {},
   "outputs": [
    {
     "name": "stdout",
     "output_type": "stream",
     "text": [
      "                 Generalized Linear Model Regression Results                  \n",
      "==============================================================================\n",
      "Dep. Variable:                  Birds   No. Observations:                  160\n",
      "Model:                            GLM   Df Residuals:                      135\n",
      "Model Family:                Binomial   Df Model:                           24\n",
      "Link Function:                  logit   Scale:                          1.0000\n",
      "Method:                          IRLS   Log-Likelihood:                -62.301\n",
      "Date:                Tue, 09 Apr 2019   Deviance:                       124.60\n",
      "Time:                        13:10:34   Pearson chi2:                     161.\n",
      "No. Iterations:                     6   Covariance Type:             nonrobust\n",
      "======================================================================================\n",
      "                         coef    std err          z      P>|z|      [0.025      0.975]\n",
      "--------------------------------------------------------------------------------------\n",
      "Intercept             -1.8894      8.748     -0.216      0.829     -19.036      15.257\n",
      "lapCorrelation        -0.5439      1.072     -0.507      0.612      -2.645       1.557\n",
      "lapAngle1             -0.5066      0.375     -1.352      0.176      -1.241       0.228\n",
      "lapAngle2             -0.2782      0.564     -0.493      0.622      -1.383       0.827\n",
      "cannyCorrelation       1.6802      0.868      1.935      0.053      -0.021       3.382\n",
      "cannyAngle1           -1.9638      0.380     -5.172      0.000      -2.708      -1.220\n",
      "cannyAngle2           -0.6269      0.457     -1.373      0.170      -1.522       0.268\n",
      "sobelxCovariance       0.0159      0.005      3.235      0.001       0.006       0.026\n",
      "sobelxAngle1          -1.3436      0.540     -2.490      0.013      -2.401      -0.286\n",
      "sobelxAngle2          -0.7025      0.332     -2.113      0.035      -1.354      -0.051\n",
      "sobelyCovariance       0.0080      0.003      2.488      0.013       0.002       0.014\n",
      "sobelyAngle1          -0.1678      0.337     -0.498      0.618      -0.828       0.492\n",
      "sobelyAngle2           1.0745      0.560      1.918      0.055      -0.024       2.173\n",
      "sobelVariancey         0.0008      0.002      0.394      0.694      -0.003       0.005\n",
      "sobelAngle1           -0.4100      0.380     -1.080      0.280      -1.154       0.334\n",
      "sobelAngle2           -0.1414      0.455     -0.311      0.756      -1.032       0.750\n",
      "scharrxCovariance     -0.0374      0.026     -1.443      0.149      -0.088       0.013\n",
      "scharrxCorrelation   104.7643    107.904      0.971      0.332    -106.723     316.251\n",
      "scharrxAngle1          0.6777      0.616      1.100      0.271      -0.530       1.885\n",
      "scharrxAngle2          0.0138      0.354      0.039      0.969      -0.680       0.708\n",
      "scharryAngle1         -0.0156      0.331     -0.047      0.962      -0.665       0.633\n",
      "scharryAngle2         -0.3924      0.597     -0.657      0.511      -1.563       0.779\n",
      "scharrCorrelation     -0.6959      5.750     -0.121      0.904     -11.965      10.573\n",
      "scharrAngle1           1.0567      0.442      2.389      0.017       0.190       1.924\n",
      "scharrAngle2           0.4956      0.543      0.912      0.362      -0.570       1.561\n",
      "======================================================================================\n"
     ]
    }
   ],
   "source": [
    "model=smf.glm(formula='Birds~lapCorrelation+lapAngle1+lapAngle2+cannyCorrelation+cannyAngle1+cannyAngle2+sobelxCovariance+sobelxAngle1+sobelxAngle2+sobelyCovariance+sobelyAngle1+sobelyAngle2+sobelVariancey+sobelAngle1+sobelAngle2+scharrxCovariance+scharrxCorrelation+scharrxAngle1+scharrxAngle2+scharryAngle1+scharryAngle2+scharrCorrelation+scharrAngle1+scharrAngle2',data=train,family=sm.families.Binomial()).fit()\n",
    "print(model.summary())              "
   ]
  },
  {
   "cell_type": "code",
   "execution_count": 42,
   "metadata": {
    "collapsed": true
   },
   "outputs": [],
   "source": [
    "def prediction(x1,x2,x3,x4,x5,x6,x7,x8,x9,x10,x11,x12,x13,x14,x15,x16,x17,x18,x19,x20,x21,x22,x23,x24):\n",
    "\n",
    "    Varx= x1\n",
    "    Angle1 = x2   \n",
    "    lnor = model.params['lapCorrelation']*x1 + model.params['lapAngle1']*x2 + model.params['lapAngle2']*x3 + model.params['cannyCorrelation']*x4 + model.params['cannyAngle1']*x5 + model.params['cannyAngle2']*x6 + model.params['sobelxCovariance']*x7  + model.params['sobelxAngle1']*x8 + model.params['sobelxAngle2']*x9 + model.params['sobelyCovariance']*x10 + model.params['sobelyAngle1']*x11 + model.params['sobelyAngle2']*x12 + model.params['sobelVariancey']*x13 +  model.params['sobelAngle1']*x14  + model.params['sobelAngle2']*x15 + model.params['scharrxCovariance']*x16 + model.params['scharrxCorrelation']*x17 + model.params['scharrxAngle1']*x18 + model.params['scharrxAngle2']*x19 + model.params['scharryAngle1']*x20  + model.params['scharryAngle2']*x21 +  model.params['scharrCorrelation']*x22 + model.params['scharrAngle1']*x23 + model.params['scharrAngle2']*x24\n",
    "    oddsratio = np.exp(lnor)\n",
    "    p = oddsratio/(oddsratio+1)    \n",
    "\n",
    "    return p"
   ]
  },
  {
   "cell_type": "code",
   "execution_count": 43,
   "metadata": {
    "collapsed": true
   },
   "outputs": [],
   "source": [
    "def predict(prob,thresh=0.5):\n",
    "    if prob > thresh:\n",
    "        return 1\n",
    "    else:\n",
    "        return 0"
   ]
  },
  {
   "cell_type": "code",
   "execution_count": 44,
   "metadata": {},
   "outputs": [
    {
     "data": {
      "text/plain": [
       "Index(['lapCorrelation', 'lapAngle1', 'lapAngle2', 'cannyCorrelation',\n",
       "       'cannyAngle1', 'cannyAngle2', 'sobelxCovariance', 'sobelxAngle1',\n",
       "       'sobelxAngle2', 'sobelyCovariance', 'sobelyAngle1', 'sobelyAngle2',\n",
       "       'sobelVariancey', 'sobelAngle1', 'sobelAngle2', 'scharrxCovariance',\n",
       "       'scharrxCorrelation', 'scharrxAngle1', 'scharrxAngle2', 'scharryAngle1',\n",
       "       'scharryAngle2', 'scharrCorrelation', 'scharrAngle1', 'scharrAngle2'],\n",
       "      dtype='object')"
      ]
     },
     "execution_count": 44,
     "metadata": {},
     "output_type": "execute_result"
    }
   ],
   "source": [
    "x_birds.keys()"
   ]
  },
  {
   "cell_type": "code",
   "execution_count": 45,
   "metadata": {
    "collapsed": true
   },
   "outputs": [],
   "source": [
    "prob = prediction(train['lapCorrelation'],train['lapAngle1'],train['lapAngle2'],train['cannyCorrelation'],train['cannyAngle1'],train['cannyAngle2'],train['sobelxCovariance'],train['sobelxAngle1'],train['sobelxAngle2'],train['sobelyCovariance'],train['sobelyAngle1'],train['sobelyAngle2'],train['sobelVariancey'],train['sobelAngle1'],train['sobelAngle2'],train['scharrxCovariance'],train['scharrxCorrelation'],train['scharrxAngle1'],train['scharrxAngle2'],train['scharryAngle1'],train['scharryAngle2'],train['scharrCorrelation'],train['scharrAngle1'],train['scharrAngle2'])"
   ]
  },
  {
   "cell_type": "code",
   "execution_count": 46,
   "metadata": {
    "collapsed": true
   },
   "outputs": [],
   "source": [
    "y_pred = prob.apply(predict)"
   ]
  },
  {
   "cell_type": "code",
   "execution_count": 47,
   "metadata": {
    "collapsed": true
   },
   "outputs": [],
   "source": [
    "y_true = train['Birds']"
   ]
  },
  {
   "cell_type": "code",
   "execution_count": 48,
   "metadata": {
    "collapsed": true
   },
   "outputs": [],
   "source": [
    "from pandas_ml import ConfusionMatrix"
   ]
  },
  {
   "cell_type": "code",
   "execution_count": 49,
   "metadata": {},
   "outputs": [
    {
     "name": "stdout",
     "output_type": "stream",
     "text": [
      "Predicted  False  True  __all__\n",
      "Actual                         \n",
      "False         39    41       80\n",
      "True           1    79       80\n",
      "__all__       40   120      160\n"
     ]
    }
   ],
   "source": [
    "cm = ConfusionMatrix(y_true,y_pred)\n",
    "print(cm)"
   ]
  },
  {
   "cell_type": "code",
   "execution_count": 50,
   "metadata": {},
   "outputs": [
    {
     "name": "stderr",
     "output_type": "stream",
     "text": [
      "C:\\Users\\user\\AppData\\Local\\Continuum\\anaconda3\\lib\\site-packages\\pandas_ml\\confusion_matrix\\stats.py:60: FutureWarning: supplying multiple axes to axis is deprecated and will be removed in a future version.\n",
      "  num = df[df > 1].dropna(axis=[0, 1], thresh=1).applymap(lambda n: choose(n, 2)).sum().sum() - np.float64(nis2 * njs2) / n2\n"
     ]
    },
    {
     "data": {
      "text/plain": [
       "OrderedDict([('Accuracy', 0.7375),\n",
       "             ('95% CI', (0.6621798680048558, 0.803802817410914)),\n",
       "             ('No Information Rate', 'ToDo'),\n",
       "             ('P-Value [Acc > NIR]', 0.6802139128726792),\n",
       "             ('Kappa', 0.4750000000000001),\n",
       "             (\"Mcnemar's Test P-Value\", 'ToDo')])"
      ]
     },
     "execution_count": 50,
     "metadata": {},
     "output_type": "execute_result"
    }
   ],
   "source": [
    "cm.stats_overall"
   ]
  },
  {
   "cell_type": "code",
   "execution_count": 64,
   "metadata": {},
   "outputs": [],
   "source": [
    "prob = prediction(test['lapCorrelation'],test['lapAngle1'],test['lapAngle2'],test['cannyCorrelation'],test['cannyAngle1'],test['cannyAngle2'],test['sobelxCovariance'],test['sobelxAngle1'],test['sobelxAngle2'],test['sobelyCovariance'],test['sobelyAngle1'],test['sobelyAngle2'],test['sobelVariancey'],test['sobelAngle1'],test['sobelAngle2'],test['scharrxCovariance'],test['scharrxCorrelation'],test['scharrxAngle1'],test['scharrxAngle2'],test['scharryAngle1'],test['scharryAngle2'],test['scharrCorrelation'],test['scharrAngle1'],test['scharrAngle2'])"
   ]
  },
  {
   "cell_type": "code",
   "execution_count": 65,
   "metadata": {
    "collapsed": true
   },
   "outputs": [],
   "source": [
    "y_pred = prob.apply(predict)"
   ]
  },
  {
   "cell_type": "code",
   "execution_count": 66,
   "metadata": {
    "collapsed": true
   },
   "outputs": [],
   "source": [
    "y_true = test['Birds']"
   ]
  },
  {
   "cell_type": "code",
   "execution_count": 67,
   "metadata": {},
   "outputs": [
    {
     "name": "stdout",
     "output_type": "stream",
     "text": [
      "Predicted  False  True  __all__\n",
      "Actual                         \n",
      "False          7    13       20\n",
      "True           3    17       20\n",
      "__all__       10    30       40\n"
     ]
    }
   ],
   "source": [
    "cm_test = ConfusionMatrix(y_true,y_pred)\n",
    "print(cm_test)"
   ]
  },
  {
   "cell_type": "code",
   "execution_count": 68,
   "metadata": {},
   "outputs": [
    {
     "name": "stderr",
     "output_type": "stream",
     "text": [
      "C:\\Users\\user\\AppData\\Local\\Continuum\\anaconda3\\lib\\site-packages\\pandas_ml\\confusion_matrix\\stats.py:60: FutureWarning: supplying multiple axes to axis is deprecated and will be removed in a future version.\n",
      "  num = df[df > 1].dropna(axis=[0, 1], thresh=1).applymap(lambda n: choose(n, 2)).sum().sum() - np.float64(nis2 * njs2) / n2\n"
     ]
    },
    {
     "data": {
      "text/plain": [
       "OrderedDict([('Accuracy', 0.6),\n",
       "             ('95% CI', (0.43326705219329664, 0.7513500134122563)),\n",
       "             ('No Information Rate', 'ToDo'),\n",
       "             ('P-Value [Acc > NIR]', 0.9884386387990133),\n",
       "             ('Kappa', 0.19999999999999996),\n",
       "             (\"Mcnemar's Test P-Value\", 'ToDo')])"
      ]
     },
     "execution_count": 68,
     "metadata": {},
     "output_type": "execute_result"
    }
   ],
   "source": [
    "cm_test.stats_overall"
   ]
  },
  {
   "cell_type": "code",
   "execution_count": 70,
   "metadata": {},
   "outputs": [
    {
     "name": "stdout",
     "output_type": "stream",
     "text": [
      "                 Generalized Linear Model Regression Results                  \n",
      "==============================================================================\n",
      "Dep. Variable:                  Birds   No. Observations:                  160\n",
      "Model:                            GLM   Df Residuals:                      135\n",
      "Model Family:                Binomial   Df Model:                           24\n",
      "Link Function:                  logit   Scale:                          1.0000\n",
      "Method:                          IRLS   Log-Likelihood:                -62.301\n",
      "Date:                Tue, 09 Apr 2019   Deviance:                       124.60\n",
      "Time:                        13:03:14   Pearson chi2:                     161.\n",
      "No. Iterations:                     6   Covariance Type:             nonrobust\n",
      "======================================================================================\n",
      "                         coef    std err          z      P>|z|      [0.025      0.975]\n",
      "--------------------------------------------------------------------------------------\n",
      "Intercept             -1.8894      8.748     -0.216      0.829     -19.036      15.257\n",
      "lapCorrelation        -0.5439      1.072     -0.507      0.612      -2.645       1.557\n",
      "lapAngle1             -0.5066      0.375     -1.352      0.176      -1.241       0.228\n",
      "lapAngle2             -0.2782      0.564     -0.493      0.622      -1.383       0.827\n",
      "cannyCorrelation       1.6802      0.868      1.935      0.053      -0.021       3.382\n",
      "cannyAngle1           -1.9638      0.380     -5.172      0.000      -2.708      -1.220\n",
      "cannyAngle2           -0.6269      0.457     -1.373      0.170      -1.522       0.268\n",
      "sobelxCovariance       0.0159      0.005      3.235      0.001       0.006       0.026\n",
      "sobelxAngle1          -1.3436      0.540     -2.490      0.013      -2.401      -0.286\n",
      "sobelxAngle2          -0.7025      0.332     -2.113      0.035      -1.354      -0.051\n",
      "sobelyCovariance       0.0080      0.003      2.488      0.013       0.002       0.014\n",
      "sobelyAngle1          -0.1678      0.337     -0.498      0.618      -0.828       0.492\n",
      "sobelyAngle2           1.0745      0.560      1.918      0.055      -0.024       2.173\n",
      "sobelVariancey         0.0008      0.002      0.394      0.694      -0.003       0.005\n",
      "sobelAngle1           -0.4100      0.380     -1.080      0.280      -1.154       0.334\n",
      "sobelAngle2           -0.1414      0.455     -0.311      0.756      -1.032       0.750\n",
      "scharrxCovariance     -0.0374      0.026     -1.443      0.149      -0.088       0.013\n",
      "scharrxCorrelation   104.7643    107.904      0.971      0.332    -106.723     316.251\n",
      "scharrxAngle1          0.6777      0.616      1.100      0.271      -0.530       1.885\n",
      "scharrxAngle2          0.0138      0.354      0.039      0.969      -0.680       0.708\n",
      "scharryAngle1         -0.0156      0.331     -0.047      0.962      -0.665       0.633\n",
      "scharryAngle2         -0.3924      0.597     -0.657      0.511      -1.563       0.779\n",
      "scharrCorrelation     -0.6959      5.750     -0.121      0.904     -11.965      10.573\n",
      "scharrAngle1           1.0567      0.442      2.389      0.017       0.190       1.924\n",
      "scharrAngle2           0.4956      0.543      0.912      0.362      -0.570       1.561\n",
      "======================================================================================\n",
      "INFO: Null deviance = 221.80709777918253\n",
      "INFO: Residual deviance = 124.60291318827025\n"
     ]
    }
   ],
   "source": [
    "print(model.summary())\n",
    "print('INFO: Null deviance =',model.null_deviance)\n",
    "print('INFO: Residual deviance =',model.deviance)"
   ]
  },
  {
   "cell_type": "code",
   "execution_count": 72,
   "metadata": {
    "collapsed": true
   },
   "outputs": [],
   "source": [
    "from scipy.stats import chi2"
   ]
  },
  {
   "cell_type": "code",
   "execution_count": 77,
   "metadata": {},
   "outputs": [],
   "source": [
    "dfreedom=200-1-(24-1)"
   ]
  },
  {
   "cell_type": "code",
   "execution_count": 78,
   "metadata": {},
   "outputs": [
    {
     "name": "stdout",
     "output_type": "stream",
     "text": [
      "INFO: Critical Value of chi2 = 207.95471700087032\n",
      "INFO: Pearson chi2 = 161.33668014456515\n",
      "INFO: P-value chi2 = 0.7789305955418262\n",
      "INFO: AIC = 174.60291318827026\n"
     ]
    }
   ],
   "source": [
    "print('INFO: Critical Value of chi2 =',chi2.ppf(0.95,dfreedom))\n",
    "print('INFO: Pearson chi2 =',model.pearson_chi2)\n",
    "print('INFO: P-value chi2 =',1-chi2.cdf(model.pearson_chi2,dfreedom))\n",
    "print('INFO: AIC =',model.aic)"
   ]
  },
  {
   "cell_type": "code",
   "execution_count": 299,
   "metadata": {
    "collapsed": true
   },
   "outputs": [],
   "source": [
    "def predict2(prob2,thresh=0.5):\n",
    "    if prob2 > thresh:\n",
    "        return 1\n",
    "    else:\n",
    "        return 0"
   ]
  },
  {
   "cell_type": "code",
   "execution_count": 279,
   "metadata": {
    "collapsed": true
   },
   "outputs": [],
   "source": [
    "prob2=prediction(test['Varx'],test['Angle1'])"
   ]
  },
  {
   "cell_type": "code",
   "execution_count": 300,
   "metadata": {
    "collapsed": true
   },
   "outputs": [],
   "source": [
    "y_pred2=prob2.apply(predict2)"
   ]
  },
  {
   "cell_type": "code",
   "execution_count": 301,
   "metadata": {
    "collapsed": true
   },
   "outputs": [],
   "source": [
    "y_test=test['Birds']"
   ]
  },
  {
   "cell_type": "code",
   "execution_count": 85,
   "metadata": {
    "collapsed": true
   },
   "outputs": [],
   "source": [
    "def convertclass(y):\n",
    "    if y >= 0.53:\n",
    "        return 1\n",
    "    else:\n",
    "        return 0"
   ]
  },
  {
   "cell_type": "code",
   "execution_count": 86,
   "metadata": {
    "collapsed": true
   },
   "outputs": [],
   "source": [
    "y_pred_train_prob = model.predict(x_train)\n",
    "y_pred_test_prob = model.predict(x_test)"
   ]
  },
  {
   "cell_type": "code",
   "execution_count": 87,
   "metadata": {
    "collapsed": true
   },
   "outputs": [],
   "source": [
    "y_pred_train_class = y_pred_train_prob.apply(convertclass)\n",
    "y_pred_test_class = y_pred_test_prob.apply(convertclass)"
   ]
  },
  {
   "cell_type": "code",
   "execution_count": 88,
   "metadata": {},
   "outputs": [
    {
     "name": "stdout",
     "output_type": "stream",
     "text": [
      " \n"
     ]
    },
    {
     "data": {
      "image/png": "[encoded data removed]",
      "text/plain": [
       "<Figure size 720x432 with 1 Axes>"
      ]
     },
     "metadata": {},
     "output_type": "display_data"
    }
   ],
   "source": [
    "from sklearn.metrics import roc_curve,auc\n",
    "fpr,tpr,threshold = roc_curve(y_train,y_pred_train_prob)\n",
    "\n",
    "plt.figure(figsize=(10,6))\n",
    "plt.plot(fpr,tpr,color='red',lw=1.5)\n",
    "plt.plot([0, 1], [0, 1], color='navy',lw = 2, linestyle='--')\n",
    "\n",
    "for i,value in enumerate(fpr*10):\n",
    "    try:\n",
    "        if (round(fpr[i+1]*10) - round(fpr[i]*10)) == 1:\n",
    "            plt.text(fpr[i],tpr[i],'%0.2f'%(threshold[i]))\n",
    "    except IndexError:\n",
    "        print(' ')\n",
    "        \n",
    "plt.xlabel('False Positive Rate')\n",
    "plt.ylabel('True Positive Rate')\n",
    "plt.title('ROC Curve')\n",
    "plt.legend(['ROC curve (area = %0.2f)' % auc(fpr,tpr)])\n",
    "plt.show()"
   ]
  },
  {
   "cell_type": "code",
   "execution_count": 89,
   "metadata": {
    "collapsed": true
   },
   "outputs": [],
   "source": [
    "#best hreshhold value is 0.53"
   ]
  },
  {
   "cell_type": "code",
   "execution_count": null,
   "metadata": {
    "collapsed": true
   },
   "outputs": [],
   "source": []
  }
 ],
 "metadata": {
  "kernelspec": {
   "display_name": "Python 3",
   "language": "python",
   "name": "python3"
  },
  "language_info": {
   "codemirror_mode": {
    "name": "ipython",
    "version": 3
   },
   "file_extension": ".py",
   "mimetype": "text/x-python",
   "name": "python",
   "nbconvert_exporter": "python",
   "pygments_lexer": "ipython3",
   "version": "3.6.3"
  }
 },
 "nbformat": 4,
 "nbformat_minor": 2
}
